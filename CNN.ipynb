{
 "cells": [
  {
   "cell_type": "code",
   "execution_count": 1,
   "id": "55b093c7",
   "metadata": {},
   "outputs": [
    {
     "name": "stderr",
     "output_type": "stream",
     "text": [
      "2022-05-05 09:23:16.455358: W tensorflow/stream_executor/platform/default/dso_loader.cc:64] Could not load dynamic library 'libcudart.so.11.0'; dlerror: libcudart.so.11.0: cannot open shared object file: No such file or directory\n",
      "2022-05-05 09:23:16.455382: I tensorflow/stream_executor/cuda/cudart_stub.cc:29] Ignore above cudart dlerror if you do not have a GPU set up on your machine.\n"
     ]
    }
   ],
   "source": [
    "import tensorflow as tf\n",
    "import numpy as np\n",
    "from tensorflow import keras"
   ]
  },
  {
   "cell_type": "code",
   "execution_count": 2,
   "id": "40f45baf",
   "metadata": {},
   "outputs": [],
   "source": [
    "invariants = np.zeros((6,6,5))\n",
    "tensors = np.zeros((9,10,6,6))"
   ]
  },
  {
   "cell_type": "code",
   "execution_count": 16,
   "id": "05ba2d96",
   "metadata": {},
   "outputs": [],
   "source": [
    "keras.backend.clear_session()"
   ]
  },
  {
   "cell_type": "code",
   "execution_count": null,
   "id": "bf95f8c6",
   "metadata": {},
   "outputs": [],
   "source": [
    "input_layer = keras.layers.Input(shape = (6,6,5),name = 'Input_layer')\n",
    "input_tensors = keras.layers.Input(shape = (9,10,6,6))\n",
    "hidden1 = keras.layers.Conv2D(10,(6,6))(input_layer)\n",
    "hidden2 = keras.layers.Conv2D(20,(6,6))(hidden1)\n",
    "hidden3 = keras.layers.Conv2D(40,(6,6))(hidden2)\n",
    "hidden4 = keras.layers.Conv2D(10,(6,6))(hidden3)\n",
    "for i in range(9):\n",
    "    for j in range(10):\n",
    "        coef_j = keras.layers.Lambda(lambda x:x[j])(hidden4)\n",
    "        merge = keras.layers.multiply()([coef_i,tensor[i][j]])"
   ]
  }
 ],
 "metadata": {
  "kernelspec": {
   "display_name": "Python 3 (ipykernel)",
   "language": "python",
   "name": "python3"
  },
  "language_info": {
   "codemirror_mode": {
    "name": "ipython",
    "version": 3
   },
   "file_extension": ".py",
   "mimetype": "text/x-python",
   "name": "python",
   "nbconvert_exporter": "python",
   "pygments_lexer": "ipython3",
   "version": "3.9.7"
  }
 },
 "nbformat": 4,
 "nbformat_minor": 5
}
