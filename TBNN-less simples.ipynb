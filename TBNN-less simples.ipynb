{
 "cells": [
  {
   "cell_type": "code",
   "execution_count": 1,
   "id": "c12b9be6",
   "metadata": {},
   "outputs": [],
   "source": [
    "import numpy as np\n",
    "from sklearn.model_selection import train_test_split\n",
    "from sklearn.preprocessing import StandardScaler"
   ]
  },
  {
   "cell_type": "code",
   "execution_count": 4,
   "id": "007894cc",
   "metadata": {},
   "outputs": [
    {
     "name": "stdout",
     "output_type": "stream",
     "text": [
      "Shape of Five_Tensors: (7719, 10, 3, 3)\n",
      "Shape of Invariants: (7719, 5)\n",
      "Shape of LES Data: (7719, 6)\n",
      " \n",
      "Training Invariants:\n",
      "(6175, 5)\n",
      "Training tensor basis:\n",
      "(6175, 10, 3, 3)\n",
      "Training labels:\n",
      "(6175, 6)\n",
      " \n",
      "Validation Invariants:\n",
      "(1544, 5)\n",
      "Validation tensor basis:\n",
      "(1544, 10, 3, 3)\n",
      "Validation labels:\n",
      "(1544, 6)\n",
      " \n"
     ]
    }
   ],
   "source": [
    "File_address = '/home/haoyan/Desktop/ML-CFD/CASE/PHill/TBNN/h8-old1mesh/'\n",
    "End = '.npy'\n",
    "LES_address = File_address  + 'Anisotropy_Tensors_LES_NASA' + End\n",
    "Tensors_address = File_address + 'Tensors_RANS' + End\n",
    "Invariants_address = File_address + 'Invariants_RANS' + End\n",
    "Anisotropy = np.load(LES_address)\n",
    "Invariants = np.load(Invariants_address)\n",
    "Two_Invariants = Invariants[:,:2]\n",
    "General_Tensors = np.load(Tensors_address)\n",
    "Five_Tensors = General_Tensors[:,:5]\n",
    "Index = np.arange(Invariants.shape[0])\n",
    "Input_shape = Invariants.shape[1]\n",
    "Two_dim_anisotropy = np.zeros((93*83,4))\n",
    "for i in range((93*83)):\n",
    "    Two_dim_anisotropy[i][0] = Anisotropy[i][0]\n",
    "    Two_dim_anisotropy[i][1] = Anisotropy[i][1]\n",
    "    Two_dim_anisotropy[i][2] = Anisotropy[i][3]\n",
    "    Two_dim_anisotropy[i][3] = Anisotropy[i][5]\n",
    "\n",
    "X_train,X_val,Y_train,Y_val,Ind_train,Ind_val = train_test_split(Invariants,Anisotropy,Index,test_size=0.2, random_state=10, shuffle=True)\n",
    "Basis_train = General_Tensors[Ind_train]\n",
    "Basis_val = General_Tensors[Ind_val]\n",
    "X_train = StandardScaler().fit_transform(X_train)\n",
    "X_val = StandardScaler().fit_transform(X_val)##!Different from Example\n",
    "print('Shape of Five_Tensors:',General_Tensors.shape)\n",
    "print('Shape of Invariants:', Invariants.shape)\n",
    "print('Shape of LES Data:', Anisotropy.shape)\n",
    "print(' ')\n",
    "print('Training Invariants:')\n",
    "print(X_train.shape)\n",
    "print('Training tensor basis:')\n",
    "print(Basis_train.shape)\n",
    "print('Training labels:')\n",
    "print(Y_train.shape)\n",
    "print(' ')\n",
    "print('Validation Invariants:')\n",
    "print(X_val.shape)\n",
    "print('Validation tensor basis:')\n",
    "print(Basis_val.shape)\n",
    "print('Validation labels:')\n",
    "print(Y_val.shape)\n",
    "print(' ')"
   ]
  },
  {
   "cell_type": "code",
   "execution_count": 18,
   "id": "2b21fd89",
   "metadata": {},
   "outputs": [
    {
     "name": "stdout",
     "output_type": "stream",
     "text": [
      "Model: \"model\"\n",
      "__________________________________________________________________________________________________\n",
      " Layer (type)                   Output Shape         Param #     Connected to                     \n",
      "==================================================================================================\n",
      " Input_layer (InputLayer)       [(None, 5)]          0           []                               \n",
      "                                                                                                  \n",
      " Hidden1 (Dense)                (None, 15)           90          ['Input_layer[0][0]']            \n",
      "                                                                                                  \n",
      " Hidden2 (Dense)                (None, 20)           320         ['Hidden1[0][0]']                \n",
      "                                                                                                  \n",
      " Hidden3 (Dense)                (None, 20)           420         ['Hidden2[0][0]']                \n",
      "                                                                                                  \n",
      " Hidden4 (Dense)                (None, 20)           420         ['Hidden3[0][0]']                \n",
      "                                                                                                  \n",
      " Hidden5 (Dense)                (None, 20)           420         ['Hidden4[0][0]']                \n",
      "                                                                                                  \n",
      " gn (Dense)                     (None, 10)           210         ['Hidden5[0][0]']                \n",
      "                                                                                                  \n",
      " Shape_for_dot_product (Reshape  (None, 10, 1, 1)    0           ['gn[0][0]']                     \n",
      " )                                                                                                \n",
      "                                                                                                  \n",
      " Tensor_Input_layer (InputLayer  [(None, 10, 3, 3)]  0           []                               \n",
      " )                                                                                                \n",
      "                                                                                                  \n",
      " Dot_product (Dot)              (None, 1, 1, 3, 3)   0           ['Shape_for_dot_product[0][0]',  \n",
      "                                                                  'Tensor_Input_layer[0][0]']     \n",
      "                                                                                                  \n",
      " Shaped_output (Reshape)        (None, 9, 1)         0           ['Dot_product[0][0]']            \n",
      "                                                                                                  \n",
      " lambda (Lambda)                (None, 1)            0           ['Shaped_output[0][0]']          \n",
      "                                                                                                  \n",
      " lambda_1 (Lambda)              (None, 1)            0           ['Shaped_output[0][0]']          \n",
      "                                                                                                  \n",
      " lambda_2 (Lambda)              (None, 1)            0           ['Shaped_output[0][0]']          \n",
      "                                                                                                  \n",
      " lambda_3 (Lambda)              (None, 1)            0           ['Shaped_output[0][0]']          \n",
      "                                                                                                  \n",
      " lambda_4 (Lambda)              (None, 1)            0           ['Shaped_output[0][0]']          \n",
      "                                                                                                  \n",
      " lambda_5 (Lambda)              (None, 1)            0           ['Shaped_output[0][0]']          \n",
      "                                                                                                  \n",
      " concatenate (Concatenate)      (None, 6)            0           ['lambda[0][0]',                 \n",
      "                                                                  'lambda_1[0][0]',               \n",
      "                                                                  'lambda_2[0][0]',               \n",
      "                                                                  'lambda_3[0][0]',               \n",
      "                                                                  'lambda_4[0][0]',               \n",
      "                                                                  'lambda_5[0][0]']               \n",
      "                                                                                                  \n",
      "==================================================================================================\n",
      "Total params: 1,880\n",
      "Trainable params: 1,880\n",
      "Non-trainable params: 0\n",
      "__________________________________________________________________________________________________\n",
      "None\n"
     ]
    }
   ],
   "source": [
    "import tensorflow as tf\n",
    "from tensorflow import keras\n",
    "keras.backend.clear_session()\n",
    "\n",
    "input_layer = keras.layers.Input(shape=(Input_shape),name = 'Input_layer')\n",
    "input_tensor_basis = keras.layers.Input(shape=(10,3,3),name = 'Tensor_Input_layer')\n",
    "\n",
    "hidden1 = keras.layers.Dense(15,name='Hidden1', kernel_initializer=\"lecun_normal\",kernel_regularizer=tf.keras.regularizers.l2(1E-3), activation = \"selu\")(input_layer)\n",
    "hidden2 = keras.layers.Dense(20,name='Hidden2', kernel_initializer=\"lecun_normal\",kernel_regularizer=tf.keras.regularizers.l2(1E-3), activation = \"selu\")(hidden1)\n",
    "hidden3 = keras.layers.Dense(20,name='Hidden3', kernel_initializer=\"lecun_normal\",kernel_regularizer=tf.keras.regularizers.l2(1E-3), activation = \"tanh\")(hidden2)\n",
    "hidden4 = keras.layers.Dense(20,name='Hidden4', kernel_initializer=\"lecun_normal\",kernel_regularizer=tf.keras.regularizers.l2(1E-3), activation = \"selu\")(hidden3)#\n",
    "hidden5 = keras.layers.Dense(20,name='Hidden5', kernel_initializer=\"lecun_normal\",kernel_regularizer=tf.keras.regularizers.l2(1E-3), activation = \"tanh\")(hidden4)\n",
    "gn = keras.layers.Dense(10,name='gn', kernel_initializer=\"lecun_normal\",kernel_regularizer=tf.keras.regularizers.l2(1E-4), activation = \"selu\")(hidden5)\n",
    "\n",
    "shaped = keras.layers.Reshape((10,1,1),name='Shape_for_dot_product')(gn)\n",
    "merge = keras.layers.Dot(axes=1, name='Dot_product')([shaped,input_tensor_basis])\n",
    "\n",
    "shaped_output = keras.layers.Reshape((9,1),name='Shaped_output')(merge)\n",
    "trimmed_output1 = keras.layers.Lambda(lambda x : x[:,0])(shaped_output)\n",
    "trimmed_output2 = keras.layers.Lambda(lambda x : x[:,1])(shaped_output)\n",
    "trimmed_output3 = keras.layers.Lambda(lambda x : x[:,2])(shaped_output)\n",
    "trimmed_output4 = keras.layers.Lambda(lambda x : x[:,4])(shaped_output)\n",
    "trimmed_output5 = keras.layers.Lambda(lambda x : x[:,5])(shaped_output)\n",
    "trimmed_output6 = keras.layers.Lambda(lambda x : x[:,8])(shaped_output)\n",
    "merged_output = tf.keras.layers.Concatenate()([trimmed_output1,trimmed_output2,trimmed_output3,trimmed_output4,trimmed_output5,trimmed_output6])\n",
    "#merged_output = tf.keras.layers.Concatenate()([trimmed_output1,trimmed_output2,trimmed_output4,trimmed_output6])\n",
    "model=keras.Model(inputs=[input_layer,input_tensor_basis], outputs=[merged_output])\n",
    "\n",
    "optimizer = tf.keras.optimizers.Nadam(learning_rate = 5E-4, clipnorm=1000)\n",
    "model.compile(optimizer,loss='mse',metrics=['mae', 'mse'])\n",
    "print(model.summary())"
   ]
  },
  {
   "cell_type": "code",
   "execution_count": 19,
   "id": "aa7e2297",
   "metadata": {},
   "outputs": [
    {
     "name": "stdout",
     "output_type": "stream",
     "text": [
      "Epoch 1/1000\n",
      "13/13 [==============================] - 1s 21ms/step - loss: 840.5317 - mae: 3.0168 - mse: 840.4333 - val_loss: 503.0289 - val_mae: 2.3519 - val_mse: 502.9306 - lr: 5.0000e-04\n",
      "Epoch 2/1000\n",
      "13/13 [==============================] - 0s 5ms/step - loss: 557.0440 - mae: 2.3691 - mse: 556.9457 - val_loss: 316.6815 - val_mae: 2.0179 - val_mse: 316.5832 - lr: 5.0000e-04\n",
      "Epoch 3/1000\n",
      "13/13 [==============================] - 0s 5ms/step - loss: 352.7296 - mae: 1.9241 - mse: 352.6314 - val_loss: 121.6965 - val_mae: 1.5463 - val_mse: 121.5983 - lr: 5.0000e-04\n",
      "Epoch 4/1000\n",
      "13/13 [==============================] - 0s 5ms/step - loss: 196.4005 - mae: 1.5075 - mse: 196.3023 - val_loss: 81.5802 - val_mae: 1.3656 - val_mse: 81.4820 - lr: 5.0000e-04\n",
      "Epoch 5/1000\n",
      "13/13 [==============================] - 0s 5ms/step - loss: 129.6254 - mae: 1.2430 - mse: 129.5272 - val_loss: 36.3126 - val_mae: 1.1207 - val_mse: 36.2144 - lr: 5.0000e-04\n",
      "Epoch 6/1000\n",
      "13/13 [==============================] - 0s 5ms/step - loss: 84.1629 - mae: 1.1079 - mse: 84.0648 - val_loss: 32.4637 - val_mae: 1.1031 - val_mse: 32.3656 - lr: 5.0000e-04\n",
      "Epoch 7/1000\n",
      "13/13 [==============================] - 0s 5ms/step - loss: 59.6367 - mae: 1.0362 - mse: 59.5385 - val_loss: 11.4800 - val_mae: 0.9045 - val_mse: 11.3818 - lr: 5.0000e-04\n",
      "Epoch 8/1000\n",
      "13/13 [==============================] - 0s 5ms/step - loss: 23.1159 - mae: 0.9133 - mse: 23.0178 - val_loss: 7.8994 - val_mae: 0.8339 - val_mse: 7.8013 - lr: 5.0000e-04\n",
      "Epoch 9/1000\n",
      "13/13 [==============================] - 0s 5ms/step - loss: 11.6208 - mae: 0.8197 - mse: 11.5227 - val_loss: 10.7227 - val_mae: 0.8562 - val_mse: 10.6246 - lr: 5.0000e-04\n",
      "Epoch 10/1000\n",
      "13/13 [==============================] - 0s 5ms/step - loss: 8.9119 - mae: 0.8090 - mse: 8.8139 - val_loss: 5.0777 - val_mae: 0.7459 - val_mse: 4.9797 - lr: 5.0000e-04\n",
      "Epoch 11/1000\n",
      "13/13 [==============================] - 0s 5ms/step - loss: 5.3375 - mae: 0.7079 - mse: 5.2394 - val_loss: 3.7880 - val_mae: 0.6844 - val_mse: 3.6900 - lr: 5.0000e-04\n",
      "Epoch 12/1000\n",
      "13/13 [==============================] - 0s 5ms/step - loss: 6.3545 - mae: 0.7034 - mse: 6.2565 - val_loss: 7.1245 - val_mae: 0.7363 - val_mse: 7.0265 - lr: 5.0000e-04\n",
      "Epoch 13/1000\n",
      "13/13 [==============================] - 0s 5ms/step - loss: 7.7043 - mae: 0.7158 - mse: 7.6063 - val_loss: 4.4651 - val_mae: 0.6564 - val_mse: 4.3671 - lr: 5.0000e-04\n",
      "Epoch 14/1000\n",
      "13/13 [==============================] - 0s 5ms/step - loss: 6.6404 - mae: 0.6709 - mse: 6.5424 - val_loss: 3.3656 - val_mae: 0.5982 - val_mse: 3.2676 - lr: 5.0000e-04\n",
      "Epoch 15/1000\n",
      "13/13 [==============================] - 0s 5ms/step - loss: 4.4943 - mae: 0.6016 - mse: 4.3963 - val_loss: 5.6665 - val_mae: 0.6499 - val_mse: 5.5685 - lr: 5.0000e-04\n",
      "Epoch 16/1000\n",
      "13/13 [==============================] - 0s 5ms/step - loss: 5.7910 - mae: 0.6251 - mse: 5.6930 - val_loss: 7.5929 - val_mae: 0.6665 - val_mse: 7.4949 - lr: 5.0000e-04\n",
      "Epoch 17/1000\n",
      "13/13 [==============================] - 0s 5ms/step - loss: 5.5227 - mae: 0.5993 - mse: 5.4247 - val_loss: 4.0854 - val_mae: 0.5638 - val_mse: 3.9874 - lr: 5.0000e-04\n",
      "Epoch 18/1000\n",
      "13/13 [==============================] - 0s 5ms/step - loss: 5.9953 - mae: 0.5961 - mse: 5.8974 - val_loss: 4.8348 - val_mae: 0.5529 - val_mse: 4.7369 - lr: 5.0000e-04\n",
      "Epoch 19/1000\n",
      "13/13 [==============================] - 0s 5ms/step - loss: 3.5675 - mae: 0.5131 - mse: 3.4696 - val_loss: 8.3782 - val_mae: 0.5585 - val_mse: 8.2802 - lr: 5.0000e-04\n",
      "Epoch 20/1000\n",
      "13/13 [==============================] - 0s 5ms/step - loss: 5.9970 - mae: 0.5571 - mse: 5.8991 - val_loss: 11.9069 - val_mae: 0.5371 - val_mse: 11.8090 - lr: 5.0000e-04\n",
      "Epoch 21/1000\n",
      "13/13 [==============================] - 0s 5ms/step - loss: 4.4251 - mae: 0.5259 - mse: 4.3272 - val_loss: 18.4474 - val_mae: 0.5694 - val_mse: 18.3495 - lr: 5.0000e-04\n",
      "Epoch 22/1000\n",
      "13/13 [==============================] - 0s 5ms/step - loss: 4.0846 - mae: 0.4996 - mse: 3.9867 - val_loss: 20.2081 - val_mae: 0.6170 - val_mse: 20.1101 - lr: 5.0000e-04\n",
      "Epoch 23/1000\n",
      "13/13 [==============================] - 0s 5ms/step - loss: 3.7732 - mae: 0.4858 - mse: 3.6753 - val_loss: 14.6097 - val_mae: 0.5244 - val_mse: 14.5118 - lr: 5.0000e-04\n",
      "Epoch 24/1000\n",
      "13/13 [==============================] - 0s 5ms/step - loss: 2.7296 - mae: 0.4473 - mse: 2.6317 - val_loss: 19.8681 - val_mae: 0.6407 - val_mse: 19.7702 - lr: 5.0000e-04\n",
      "Epoch 25/1000\n",
      "13/13 [==============================] - 0s 5ms/step - loss: 6.7622 - mae: 0.5350 - mse: 6.6643 - val_loss: 13.4421 - val_mae: 0.5339 - val_mse: 13.3442 - lr: 5.0000e-04\n",
      "Epoch 26/1000\n",
      "13/13 [==============================] - 0s 5ms/step - loss: 4.7649 - mae: 0.4825 - mse: 4.6670 - val_loss: 16.3500 - val_mae: 0.4960 - val_mse: 16.2521 - lr: 5.0000e-04\n",
      "Epoch 27/1000\n",
      "13/13 [==============================] - 0s 6ms/step - loss: 5.3351 - mae: 0.4857 - mse: 5.2372 - val_loss: 19.0846 - val_mae: 0.4943 - val_mse: 18.9868 - lr: 5.0000e-04\n",
      "Epoch 28/1000\n",
      "13/13 [==============================] - 0s 5ms/step - loss: 2.6685 - mae: 0.4096 - mse: 2.5706 - val_loss: 23.1816 - val_mae: 0.5349 - val_mse: 23.0838 - lr: 5.0000e-04\n",
      "Epoch 29/1000\n",
      "13/13 [==============================] - 0s 5ms/step - loss: 4.0752 - mae: 0.4194 - mse: 3.9774 - val_loss: 24.2994 - val_mae: 0.5489 - val_mse: 24.2016 - lr: 5.0000e-04\n",
      "Epoch 30/1000\n",
      "13/13 [==============================] - 0s 5ms/step - loss: 2.5723 - mae: 0.3974 - mse: 2.4745 - val_loss: 30.5531 - val_mae: 0.4618 - val_mse: 30.4553 - lr: 5.0000e-04\n",
      "Epoch 31/1000\n",
      "13/13 [==============================] - 0s 5ms/step - loss: 2.1809 - mae: 0.3764 - mse: 2.0831 - val_loss: 27.3939 - val_mae: 0.5219 - val_mse: 27.2961 - lr: 5.0000e-04\n",
      "Epoch 32/1000\n",
      "13/13 [==============================] - 0s 5ms/step - loss: 2.9684 - mae: 0.4011 - mse: 2.8705 - val_loss: 23.0078 - val_mae: 0.4730 - val_mse: 22.9100 - lr: 5.0000e-04\n",
      "Epoch 33/1000\n",
      "13/13 [==============================] - 0s 5ms/step - loss: 1.6323 - mae: 0.3604 - mse: 1.5345 - val_loss: 23.3907 - val_mae: 0.4731 - val_mse: 23.2929 - lr: 5.0000e-04\n",
      "Epoch 34/1000\n",
      "13/13 [==============================] - 0s 5ms/step - loss: 1.8173 - mae: 0.3655 - mse: 1.7195 - val_loss: 27.9860 - val_mae: 0.5954 - val_mse: 27.8882 - lr: 5.0000e-04\n",
      "Epoch 35/1000\n",
      "13/13 [==============================] - 0s 6ms/step - loss: 5.4968 - mae: 0.4443 - mse: 5.3990 - val_loss: 23.2332 - val_mae: 0.4909 - val_mse: 23.1354 - lr: 5.0000e-04\n",
      "Epoch 36/1000\n",
      "13/13 [==============================] - 0s 5ms/step - loss: 3.2355 - mae: 0.3975 - mse: 3.1377 - val_loss: 21.5716 - val_mae: 0.4804 - val_mse: 21.4738 - lr: 5.0000e-04\n",
      "Epoch 37/1000\n",
      "13/13 [==============================] - 0s 5ms/step - loss: 4.4242 - mae: 0.4213 - mse: 4.3264 - val_loss: 19.2970 - val_mae: 0.4334 - val_mse: 19.1992 - lr: 5.0000e-04\n",
      "Epoch 38/1000\n",
      "13/13 [==============================] - 0s 5ms/step - loss: 2.1580 - mae: 0.3547 - mse: 2.0602 - val_loss: 17.0348 - val_mae: 0.4095 - val_mse: 16.9371 - lr: 5.0000e-04\n",
      "Epoch 39/1000\n",
      "13/13 [==============================] - 0s 5ms/step - loss: 1.7186 - mae: 0.3316 - mse: 1.6209 - val_loss: 29.3205 - val_mae: 0.5564 - val_mse: 29.2227 - lr: 5.0000e-04\n",
      "Epoch 40/1000\n",
      "13/13 [==============================] - 0s 5ms/step - loss: 4.9568 - mae: 0.4099 - mse: 4.8591 - val_loss: 17.8092 - val_mae: 0.4651 - val_mse: 17.7114 - lr: 5.0000e-04\n",
      "Epoch 41/1000\n",
      "13/13 [==============================] - 0s 5ms/step - loss: 3.1305 - mae: 0.3616 - mse: 3.0328 - val_loss: 18.2462 - val_mae: 0.4790 - val_mse: 18.1484 - lr: 5.0000e-04\n",
      "Epoch 42/1000\n",
      "13/13 [==============================] - 0s 5ms/step - loss: 3.1365 - mae: 0.3705 - mse: 3.0388 - val_loss: 30.3473 - val_mae: 0.5465 - val_mse: 30.2496 - lr: 5.0000e-04\n",
      "Epoch 43/1000\n",
      "13/13 [==============================] - 0s 5ms/step - loss: 4.4319 - mae: 0.3805 - mse: 4.3342 - val_loss: 14.2627 - val_mae: 0.3760 - val_mse: 14.1649 - lr: 5.0000e-04\n",
      "Epoch 44/1000\n",
      "13/13 [==============================] - 0s 5ms/step - loss: 1.0361 - mae: 0.2949 - mse: 0.9384 - val_loss: 13.8587 - val_mae: 0.3769 - val_mse: 13.7610 - lr: 1.5000e-04\n",
      "Epoch 45/1000\n"
     ]
    },
    {
     "name": "stdout",
     "output_type": "stream",
     "text": [
      "13/13 [==============================] - 0s 5ms/step - loss: 0.9628 - mae: 0.2932 - mse: 0.8651 - val_loss: 13.8077 - val_mae: 0.3727 - val_mse: 13.7099 - lr: 1.5000e-04\n",
      "Epoch 46/1000\n",
      "13/13 [==============================] - 0s 5ms/step - loss: 0.9078 - mae: 0.2905 - mse: 0.8101 - val_loss: 13.6883 - val_mae: 0.3684 - val_mse: 13.5905 - lr: 1.5000e-04\n",
      "Epoch 47/1000\n",
      "13/13 [==============================] - 0s 5ms/step - loss: 0.8444 - mae: 0.2874 - mse: 0.7466 - val_loss: 14.6095 - val_mae: 0.3834 - val_mse: 14.5117 - lr: 1.5000e-04\n",
      "Epoch 48/1000\n",
      "13/13 [==============================] - 0s 5ms/step - loss: 0.8106 - mae: 0.2879 - mse: 0.7128 - val_loss: 13.9469 - val_mae: 0.3657 - val_mse: 13.8491 - lr: 1.5000e-04\n",
      "Epoch 49/1000\n",
      "13/13 [==============================] - 0s 5ms/step - loss: 0.7577 - mae: 0.2833 - mse: 0.6600 - val_loss: 14.9167 - val_mae: 0.3856 - val_mse: 14.8190 - lr: 1.5000e-04\n",
      "Epoch 50/1000\n",
      "13/13 [==============================] - 0s 5ms/step - loss: 0.7598 - mae: 0.2852 - mse: 0.6621 - val_loss: 14.1237 - val_mae: 0.3677 - val_mse: 14.0260 - lr: 1.5000e-04\n",
      "Epoch 51/1000\n",
      "13/13 [==============================] - 0s 5ms/step - loss: 0.7208 - mae: 0.2816 - mse: 0.6230 - val_loss: 14.1384 - val_mae: 0.3692 - val_mse: 14.0407 - lr: 1.5000e-04\n",
      "Epoch 52/1000\n",
      "13/13 [==============================] - 0s 5ms/step - loss: 0.6992 - mae: 0.2799 - mse: 0.6015 - val_loss: 14.4719 - val_mae: 0.3641 - val_mse: 14.3742 - lr: 1.5000e-04\n",
      "Epoch 53/1000\n",
      "13/13 [==============================] - 0s 5ms/step - loss: 0.6854 - mae: 0.2785 - mse: 0.5877 - val_loss: 14.7351 - val_mae: 0.3675 - val_mse: 14.6374 - lr: 1.5000e-04\n",
      "Epoch 54/1000\n",
      "13/13 [==============================] - 0s 5ms/step - loss: 0.6788 - mae: 0.2769 - mse: 0.5811 - val_loss: 14.6603 - val_mae: 0.3639 - val_mse: 14.5626 - lr: 1.5000e-04\n"
     ]
    }
   ],
   "source": [
    "reduce_lr =tf.keras.callbacks.ReduceLROnPlateau(monitor=\"loss\",factor=0.3,patience=10,verbose=0,mode=\"auto\",min_delta=0.0001,cooldown=0,min_lr=0)\n",
    "early_stop = tf.keras.callbacks.EarlyStopping(monitor=\"val_loss\",min_delta=0,patience=40,verbose=0,mode=\"auto\",baseline=None,restore_best_weights=True)\n",
    "history = model.fit([X_train,Basis_train],Y_train,batch_size=500,epochs=1000,validation_data = ([X_val,Basis_val],Y_val),verbose=1,callbacks=[early_stop,reduce_lr])"
   ]
  },
  {
   "cell_type": "code",
   "execution_count": 20,
   "id": "241e6bb5",
   "metadata": {},
   "outputs": [
    {
     "name": "stdout",
     "output_type": "stream",
     "text": [
      "49/49 [==============================] - 0s 2ms/step - loss: 3.3656 - mae: 0.5982 - mse: 3.2676\n"
     ]
    },
    {
     "data": {
      "text/plain": [
       "[3.3655614852905273, 0.5981546640396118, 3.2675540447235107]"
      ]
     },
     "execution_count": 20,
     "metadata": {},
     "output_type": "execute_result"
    }
   ],
   "source": [
    "model.evaluate([X_val,Basis_val],Y_val)"
   ]
  },
  {
   "cell_type": "code",
   "execution_count": 22,
   "id": "8439919d",
   "metadata": {},
   "outputs": [],
   "source": [
    "w = model.layers[6].weights[1].numpy()\n",
    "p_b = np.zeros((93*83,3,3))\n",
    "for i in range(93*83):\n",
    "    for j in range(10):\n",
    "        p_b[i] += w[j] * General_Tensors[i][j] \n",
    "np.save(\"/home/haoyan/Desktop/ML-CFD/CASE/PHill/TBNN/p_b_TBNN.npy\",p_b)"
   ]
  },
  {
   "cell_type": "code",
   "execution_count": 21,
   "id": "2875204a",
   "metadata": {},
   "outputs": [
    {
     "data": {
      "text/plain": [
       "array([-0.02016694,  0.00895048,  0.01445335, -0.00869193, -0.01291759,\n",
       "        0.02554571, -0.00631413, -0.00340419, -0.00435386,  0.01818621],\n",
       "      dtype=float32)"
      ]
     },
     "execution_count": 21,
     "metadata": {},
     "output_type": "execute_result"
    }
   ],
   "source": [
    "model.layers[6].weights[1].numpy()"
   ]
  },
  {
   "cell_type": "code",
   "execution_count": null,
   "id": "264c5dc4",
   "metadata": {},
   "outputs": [],
   "source": []
  }
 ],
 "metadata": {
  "kernelspec": {
   "display_name": "Python 3 (ipykernel)",
   "language": "python",
   "name": "python3"
  },
  "language_info": {
   "codemirror_mode": {
    "name": "ipython",
    "version": 3
   },
   "file_extension": ".py",
   "mimetype": "text/x-python",
   "name": "python",
   "nbconvert_exporter": "python",
   "pygments_lexer": "ipython3",
   "version": "3.9.7"
  }
 },
 "nbformat": 4,
 "nbformat_minor": 5
}
