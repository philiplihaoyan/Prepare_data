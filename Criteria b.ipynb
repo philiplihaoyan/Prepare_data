{
 "cells": [
  {
   "cell_type": "code",
   "execution_count": 3,
   "id": "e29a39dd",
   "metadata": {},
   "outputs": [],
   "source": [
    "#distance of first wall cell - 2.246E-5m when y+ = 0.5\n",
    "#y+ = 5 dy = 2.25E-4m\n",
    "#10 layers of wall cells near the wall\n",
    "# Grid numbers in x,y directions\n",
    "#h5 x:70 y:60 convergency time step:872\n",
    "#h10 x:90 y:80 convergency time step:1743\n",
    "#h15 x:135 y:100 convergency time step:2995\n",
    "#h20 x:180 y:120 convergency time step:4265\n",
    "import numpy as np\n",
    "import math\n",
    "from matplotlib import cm\n",
    "import matplotlib.pyplot as plt\n",
    "%matplotlib inline"
   ]
  },
  {
   "cell_type": "code",
   "execution_count": 14,
   "id": "5cf0af12",
   "metadata": {},
   "outputs": [],
   "source": [
    "head ='/home/haoyan/Desktop/ML-CFD/CASE/PHill/Grid-iretation-independency/'\n",
    "file = ['h5','h8','h10']\n",
    "i = [70,93,140]\n",
    "j = [65,83,120]\n",
    "var = ['U','k','omega']\n",
    "steps = [800,1700,2900,4200]\n",
    "#x-coordinate:Cx,y-coordinate:Cy,Velocity:U,k:k,omega:omega\n",
    "#epsilon = 0.09 * omega * k"
   ]
  },
  {
   "cell_type": "code",
   "execution_count": 5,
   "id": "614c237b",
   "metadata": {},
   "outputs": [],
   "source": [
    "def reading_field(head,name,n_package,file_name,i,j):#Reading the raw vector data\n",
    "    file = head +name +'/'+ n_package + '/' + file_name\n",
    "    raw_data = []\n",
    "    number = 23 + (i * j)\n",
    "    with open(file) as f:\n",
    "        for line in f:\n",
    "            line = line.strip('\\n')\n",
    "            raw_data.append(line)\n",
    "    data_str = (raw_data[23:number])\n",
    "    data  = [float(i) for i in data_str]\n",
    "    data = np.array(data)\n",
    "    return data\n",
    "\n",
    "def reading_U(head,name,n_package,file_name,i,j): # Reading second-rank tensor in OpenFoam field\n",
    "    file = head +name +'/'+ n_package + '/' + file_name\n",
    "    raw_data = []\n",
    "    number = (i * j)\n",
    "    with open(file) as f:\n",
    "        for line in f:\n",
    "            line = line.strip('\\n ()')\n",
    "            raw_data.append(line)\n",
    "    data_str = raw_data[23:(23+number)]\n",
    "    tensors = np.zeros((number,3))\n",
    "    for i in range(number):\n",
    "        element = np.array([float(i) for i in data_str[i].split()])\n",
    "        tensors[i] = element\n",
    "    U = tensors[:,0]\n",
    "    V = tensors[:,1]\n",
    "    return U,V\n",
    "\n",
    "def grid_plot(x,y):#Drawing the scatter of mesh centres\n",
    "    plt.figure(figsize=(90,30.35))\n",
    "    plt.scatter(x,y,color='k')\n",
    "    plt.xlabel('x')\n",
    "    plt.ylabel('y')\n",
    "    \n",
    "def Epsilon(omega,k):\n",
    "    ep = []\n",
    "    for i in range(len(omega)):\n",
    "        ep.append(0.09*omega[i]*k[i])\n",
    "    #ep = np.array(ep)\n",
    "    return ep\n",
    "def Delta(U,U_):\n",
    "    D = abs(max(U_) - min(U_))\n",
    "    delta = []\n",
    "    for i in range(len(U)):\n",
    "        delta.append(abs(U[i]-U_[i])/D)\n",
    "    #delta = np.array(delta)\n",
    "    return delta"
   ]
  },
  {
   "cell_type": "code",
   "execution_count": 11,
   "id": "727c5085",
   "metadata": {},
   "outputs": [],
   "source": [
    "def criteria_b(step1,step2,head,file,i,j):\n",
    "    n = step1\n",
    "    var = ['U','k','omega']\n",
    "    #step = 10700\n",
    "    u = []\n",
    "    v = []\n",
    "    K = []\n",
    "    e = []\n",
    "    o = []\n",
    "    while (n<=(step2-100)):\n",
    "        U,V = reading_U(head,file,str(n),var[0],i,j)\n",
    "        k = reading_field(head,file,str(n),var[1],i,j)\n",
    "        omega = reading_field(head,file,str(n),var[2],i,j)\n",
    "        epsilon = Epsilon(omega,k)\n",
    "        n+=100\n",
    "        U_,V_ = reading_U(head,file,str(n),var[0],i,j)\n",
    "        k_ = reading_field(head,file,str(n),var[1],i,j)\n",
    "        omega_ = reading_field(head,file,str(n),var[2],i,j)\n",
    "        epsilon_ = Epsilon(omega_,k_)\n",
    "        delta_U = Delta(U,U_)\n",
    "        delta_V = Delta(V,V_)\n",
    "        delta_k = Delta(k,k_)\n",
    "        delta_omega = Delta(omega,omega_)\n",
    "        delta_epsilon = Delta(epsilon,epsilon_)\n",
    "        u.append(max(delta_U))\n",
    "        v.append(max(delta_V))\n",
    "        K.append(max(delta_k))\n",
    "        o.append(max(delta_omega))\n",
    "        #e.append(max(delta_epsilon))\n",
    "    return u,v,K,o"
   ]
  },
  {
   "cell_type": "code",
   "execution_count": 7,
   "id": "a49fe2c4",
   "metadata": {},
   "outputs": [
    {
     "name": "stdout",
     "output_type": "stream",
     "text": [
      "7.37421252632816e-06 \n",
      " 7.612363239150163e-06 \n",
      " 2.422528569321521e-06 \n",
      " 9.990672506918033e-08\n"
     ]
    }
   ],
   "source": [
    "#h10\n",
    "u,v,k,o = criteria_b(13100,14000,head,file[2],i[2],j[2])\n",
    "print(max(u),'\\n',max(v),'\\n',max(k),'\\n',max(o))"
   ]
  },
  {
   "cell_type": "code",
   "execution_count": 9,
   "id": "79d6345f",
   "metadata": {},
   "outputs": [
    {
     "name": "stdout",
     "output_type": "stream",
     "text": [
      "7.417764804979926e-06 \n",
      " 2.387827463402143e-06 \n",
      " 1.237655065833214e-06 \n",
      " 1.0022112293690731e-07\n"
     ]
    }
   ],
   "source": [
    "#h8\n",
    "u,v,k,o = criteria_b(9100,10000,head,file[1],i[1],j[1])\n",
    "print(max(u),'\\n',max(v),'\\n',max(k),'\\n',max(o))"
   ]
  },
  {
   "cell_type": "code",
   "execution_count": 13,
   "id": "52ce08b7",
   "metadata": {},
   "outputs": [
    {
     "name": "stdout",
     "output_type": "stream",
     "text": [
      "7.47530532889513e-06 \n",
      " 2.3147803378957598e-06 \n",
      " 1.2695243061499072e-06 \n",
      " 1.0043531954776389e-07\n"
     ]
    }
   ],
   "source": [
    "#h5\n",
    "u,v,k,o = criteria_b(9100,10000,head,file[0],i[0],j[0])\n",
    "print(max(u),'\\n',max(v),'\\n',max(k),'\\n',max(o))"
   ]
  },
  {
   "cell_type": "code",
   "execution_count": 54,
   "id": "b1797fab",
   "metadata": {},
   "outputs": [
    {
     "name": "stdout",
     "output_type": "stream",
     "text": [
      "4.4468730568486365e-05 \n",
      " 0.0001748123310508464 \n",
      " 0.00010257230017872836 \n",
      " 3.127876116466404e-07\n"
     ]
    }
   ],
   "source": []
  },
  {
   "cell_type": "code",
   "execution_count": 2,
   "id": "bafa060d",
   "metadata": {},
   "outputs": [
    {
     "data": {
      "text/plain": [
       "0.04321428571428571"
      ]
     },
     "execution_count": 2,
     "metadata": {},
     "output_type": "execute_result"
    }
   ],
   "source": [
    "1.21/28"
   ]
  },
  {
   "cell_type": "code",
   "execution_count": null,
   "id": "95d2fcb6",
   "metadata": {},
   "outputs": [],
   "source": []
  },
  {
   "cell_type": "code",
   "execution_count": null,
   "id": "1c6ec015",
   "metadata": {},
   "outputs": [],
   "source": []
  },
  {
   "cell_type": "code",
   "execution_count": null,
   "id": "caea675c",
   "metadata": {},
   "outputs": [],
   "source": []
  }
 ],
 "metadata": {
  "kernelspec": {
   "display_name": "Python 3 (ipykernel)",
   "language": "python",
   "name": "python3"
  },
  "language_info": {
   "codemirror_mode": {
    "name": "ipython",
    "version": 3
   },
   "file_extension": ".py",
   "mimetype": "text/x-python",
   "name": "python",
   "nbconvert_exporter": "python",
   "pygments_lexer": "ipython3",
   "version": "3.9.7"
  }
 },
 "nbformat": 4,
 "nbformat_minor": 5
}
