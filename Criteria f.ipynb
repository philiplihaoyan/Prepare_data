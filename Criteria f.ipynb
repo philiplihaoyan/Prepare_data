{
 "cells": [
  {
   "cell_type": "code",
   "execution_count": 1,
   "id": "74e2d4f3",
   "metadata": {},
   "outputs": [],
   "source": [
    "import numpy as np\n",
    "from scipy.interpolate import griddata"
   ]
  },
  {
   "cell_type": "code",
   "execution_count": 2,
   "id": "ec608f3a",
   "metadata": {},
   "outputs": [],
   "source": [
    "def reading_field(head,name,n_package,file_name,i,j):#Reading the raw vector data\n",
    "    file = head +name +'/'+ n_package + '/' + file_name\n",
    "    raw_data = []\n",
    "    number = 23 + (i * j)\n",
    "    with open(file) as f:\n",
    "        for line in f:\n",
    "            line = line.strip('\\n')\n",
    "            raw_data.append(line)\n",
    "    data_str = (raw_data[23:number])\n",
    "    data  = [float(i) for i in data_str]\n",
    "    data = np.array(data)\n",
    "    return data\n",
    "\n",
    "def reading_U(head,name,n_package,file_name,i,j): # Reading second-rank tensor in OpenFoam field\n",
    "    file = head +name +'/'+ n_package + '/' + file_name\n",
    "    raw_data = []\n",
    "    number = (i * j)\n",
    "    with open(file) as f:\n",
    "        for line in f:\n",
    "            line = line.strip('\\n ()')\n",
    "            raw_data.append(line)\n",
    "    data_str = raw_data[23:(23+number)]\n",
    "    tensors = np.zeros((number,3))\n",
    "    for i in range(number):\n",
    "        element = np.array([float(i) for i in data_str[i].split()])\n",
    "        tensors[i] = element\n",
    "    U = tensors[:,0]\n",
    "    V = tensors[:,1]\n",
    "    return U,V\n",
    "\n",
    "def Epsilon(omega,k):\n",
    "    ep = []\n",
    "    for i in range(len(omega)):\n",
    "        ep.append(0.09*omega[i]*k[i])\n",
    "    #ep = np.array(ep)\n",
    "    return ep\n",
    "def Delta(U,U_):\n",
    "    D = max(U_) - min(U_)\n",
    "    delta = []\n",
    "    for i in range(len(U)):\n",
    "        delta.append(abs(U[i]-U_[i])/D)\n",
    "    delta = np.array(delta)\n",
    "    return delta"
   ]
  },
  {
   "cell_type": "code",
   "execution_count": 13,
   "id": "a2fb6e4b",
   "metadata": {},
   "outputs": [],
   "source": [
    "case = ['h5','h8','h10']\n",
    "file = ['10000','10000','14000']\n",
    "head ='/home/haoyan/Desktop/ML-CFD/CASE/PHill/Grid-iretation-independency/'\n",
    "i = [70,93,140]\n",
    "j = [65,83,120]"
   ]
  },
  {
   "cell_type": "code",
   "execution_count": 15,
   "id": "fdb328d3",
   "metadata": {},
   "outputs": [],
   "source": [
    "x2 = reading_field(head,case[0],file[0],'Cx',i[0],j[0])\n",
    "y2 = reading_field(head,case[0],file[0],'Cy',i[0],j[0])\n",
    "x1 = reading_field(head,case[1],file[1],'Cx',i[1],j[1])\n",
    "y1 = reading_field(head,case[1],file[1],'Cy',i[1],j[1])\n",
    "x0 = reading_field(head,case[2],file[2],'Cx',i[2],j[2])\n",
    "y0 = reading_field(head,case[2],file[2],'Cy',i[2],j[2])"
   ]
  },
  {
   "cell_type": "code",
   "execution_count": 16,
   "id": "11136361",
   "metadata": {},
   "outputs": [],
   "source": [
    "U2,V2 = reading_U(head,case[0],file[0],'U',i[0],j[0])\n",
    "U1,V1 = reading_U(head,case[1],file[1],'U',i[1],j[1])\n",
    "U0,V0 = reading_U(head,case[2],file[2],'U',i[2],j[2])\n",
    "k2 = reading_field(head,case[0],file[0],'k',i[0],j[0])\n",
    "k1 = reading_field(head,case[1],file[1],'k',i[1],j[1])\n",
    "k0 = reading_field(head,case[2],file[2],'k',i[2],j[2])\n",
    "omega2 = reading_field(head,case[0],file[0],'omega',i[0],j[0])\n",
    "omega1 = reading_field(head,case[1],file[1],'omega',i[1],j[1])\n",
    "omega0 = reading_field(head,case[2],file[2],'omega',i[2],j[2])"
   ]
  },
  {
   "cell_type": "code",
   "execution_count": 22,
   "id": "a1ba5c6e",
   "metadata": {},
   "outputs": [],
   "source": [
    "U0_inter = griddata((x0,y0),U0,(x1,y1),method = 'cubic')\n",
    "V0_inter = griddata((x0,y0),V0,(x1,y1),method = 'cubic')\n",
    "k0_inter = griddata((x0,y0),k0,(x1,y1),method = 'cubic')\n",
    "omega0_inter = griddata((x0,y0),omega0,(x1,y1),method = 'cubic')\n",
    "U0_inter1 = griddata((x0,y0),U0,(x2,y2),method = 'cubic')\n",
    "V0_inter1 = griddata((x0,y0),V0,(x2,y2),method = 'cubic')\n",
    "k0_inter1 = griddata((x0,y0),k0,(x2,y2),method = 'cubic')\n",
    "omega0_inter1 = griddata((x0,y0),omega0,(x2,y2),method = 'cubic')\n",
    "U1_inter = griddata((x1,y1),U1,(x2,y2),method = 'cubic')\n",
    "V1_inter = griddata((x1,y1),V1,(x2,y2),method = 'cubic')\n",
    "k1_inter = griddata((x1,y1),k1,(x2,y2),method = 'cubic')\n",
    "omega1_inter = griddata((x1,y1),omega1,(x2,y2),method = 'cubic')"
   ]
  },
  {
   "cell_type": "code",
   "execution_count": 18,
   "id": "b3cfb391",
   "metadata": {},
   "outputs": [
    {
     "name": "stdout",
     "output_type": "stream",
     "text": [
      "0.7643848221813909\n",
      "0.26487218075627106\n",
      "0.10941677636554686\n",
      "0.5156557845854046\n"
     ]
    }
   ],
   "source": [
    "U1_U2 = max(Delta(U2,U1_inter))\n",
    "print(U1_U2)\n",
    "V1_V2 = max(Delta(V2,V1_inter))\n",
    "print(V1_V2)\n",
    "k1_k2 = max(Delta(k2,k1_inter))\n",
    "print(k1_k2)\n",
    "o1_o2 =  max(Delta(omega2,omega1_inter))\n",
    "print(o1_o2)"
   ]
  },
  {
   "cell_type": "code",
   "execution_count": 23,
   "id": "8ab9514a",
   "metadata": {},
   "outputs": [
    {
     "name": "stdout",
     "output_type": "stream",
     "text": [
      "0.5660281140538794\n",
      "0.16585411563897892\n",
      "0.16418003652800392\n",
      "0.5051442967240676\n"
     ]
    }
   ],
   "source": [
    "U0_U1 = max(Delta(U1,U0_inter))\n",
    "print(U0_U1)\n",
    "V0_V1 = max(Delta(V1,V0_inter))\n",
    "print(V0_V1)\n",
    "k0_k1 = max(Delta(k1,k0_inter))\n",
    "print(k0_k1)\n",
    "o0_o1 =  max(Delta(omega1,omega0_inter))\n",
    "print(o0_o1)"
   ]
  },
  {
   "cell_type": "code",
   "execution_count": 25,
   "id": "694beb99",
   "metadata": {},
   "outputs": [
    {
     "name": "stdout",
     "output_type": "stream",
     "text": [
      "0.23923118546564656\n",
      "0.24531443764017627\n",
      "0.10241926035757029\n",
      "0.5242651275682918\n"
     ]
    }
   ],
   "source": [
    "U0_U2 = max(Delta(U2,U0_inter1))\n",
    "print(U0_U2)\n",
    "V0_V2 = max(Delta(V2,V0_inter1))\n",
    "print(V0_V2)\n",
    "k0_k2 = max(Delta(k2,k0_inter1))\n",
    "print(k0_k2)\n",
    "o0_o2 =  max(Delta(omega2,omega0_inter1))\n",
    "print(o0_o2)"
   ]
  },
  {
   "cell_type": "code",
   "execution_count": null,
   "id": "23774bc7",
   "metadata": {},
   "outputs": [],
   "source": []
  },
  {
   "cell_type": "code",
   "execution_count": null,
   "id": "01901e0a",
   "metadata": {},
   "outputs": [],
   "source": []
  }
 ],
 "metadata": {
  "kernelspec": {
   "display_name": "Python 3 (ipykernel)",
   "language": "python",
   "name": "python3"
  },
  "language_info": {
   "codemirror_mode": {
    "name": "ipython",
    "version": 3
   },
   "file_extension": ".py",
   "mimetype": "text/x-python",
   "name": "python",
   "nbconvert_exporter": "python",
   "pygments_lexer": "ipython3",
   "version": "3.9.7"
  }
 },
 "nbformat": 4,
 "nbformat_minor": 5
}
